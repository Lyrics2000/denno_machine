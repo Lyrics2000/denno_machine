{
 "cells": [
  {
   "cell_type": "code",
   "execution_count": 245,
   "id": "a562e078",
   "metadata": {},
   "outputs": [],
   "source": [
    "# import to read the csv files\n",
    "import pandas as pd\n",
    "from matplotlib import pyplot as plt\n",
    "import statsmodels as sm\n",
    "from statsmodels.tsa.stattools import adfuller\n",
    "from statsmodels.graphics.tsaplots import plot_acf, plot_pacf\n",
    "from statsmodels.tsa.arima.model import ARIMA\n",
    "\n",
    "import statistics\n",
    "import numpy as np\n",
    "from pmdarima import auto_arima\n",
    "from statsmodels.tsa.stattools import adfuller\n",
    "\n"
   ]
  },
  {
   "cell_type": "code",
   "execution_count": 246,
   "id": "b04637cd",
   "metadata": {},
   "outputs": [
    {
     "data": {
      "text/html": [
       "<div>\n",
       "<style scoped>\n",
       "    .dataframe tbody tr th:only-of-type {\n",
       "        vertical-align: middle;\n",
       "    }\n",
       "\n",
       "    .dataframe tbody tr th {\n",
       "        vertical-align: top;\n",
       "    }\n",
       "\n",
       "    .dataframe thead th {\n",
       "        text-align: right;\n",
       "    }\n",
       "</style>\n",
       "<table border=\"1\" class=\"dataframe\">\n",
       "  <thead>\n",
       "    <tr style=\"text-align: right;\">\n",
       "      <th></th>\n",
       "      <th>Year</th>\n",
       "      <th>Month</th>\n",
       "      <th>tmax</th>\n",
       "      <th>tmin</th>\n",
       "      <th>ppt</th>\n",
       "    </tr>\n",
       "  </thead>\n",
       "  <tbody>\n",
       "    <tr>\n",
       "      <th>0</th>\n",
       "      <td>1958</td>\n",
       "      <td>1</td>\n",
       "      <td>5.89798</td>\n",
       "      <td>-6.31520</td>\n",
       "      <td>22.87821</td>\n",
       "    </tr>\n",
       "    <tr>\n",
       "      <th>1</th>\n",
       "      <td>1958</td>\n",
       "      <td>2</td>\n",
       "      <td>9.17997</td>\n",
       "      <td>-1.83897</td>\n",
       "      <td>42.90582</td>\n",
       "    </tr>\n",
       "    <tr>\n",
       "      <th>2</th>\n",
       "      <td>1958</td>\n",
       "      <td>3</td>\n",
       "      <td>7.13841</td>\n",
       "      <td>-5.19640</td>\n",
       "      <td>28.72127</td>\n",
       "    </tr>\n",
       "    <tr>\n",
       "      <th>3</th>\n",
       "      <td>1958</td>\n",
       "      <td>4</td>\n",
       "      <td>13.36199</td>\n",
       "      <td>-1.94881</td>\n",
       "      <td>26.05313</td>\n",
       "    </tr>\n",
       "    <tr>\n",
       "      <th>4</th>\n",
       "      <td>1958</td>\n",
       "      <td>5</td>\n",
       "      <td>23.89599</td>\n",
       "      <td>4.19911</td>\n",
       "      <td>14.07921</td>\n",
       "    </tr>\n",
       "  </tbody>\n",
       "</table>\n",
       "</div>"
      ],
      "text/plain": [
       "   Year  Month      tmax     tmin       ppt\n",
       "0  1958      1   5.89798 -6.31520  22.87821\n",
       "1  1958      2   9.17997 -1.83897  42.90582\n",
       "2  1958      3   7.13841 -5.19640  28.72127\n",
       "3  1958      4  13.36199 -1.94881  26.05313\n",
       "4  1958      5  23.89599  4.19911  14.07921"
      ]
     },
     "execution_count": 246,
     "metadata": {},
     "output_type": "execute_result"
    }
   ],
   "source": [
    "# reading the data from csv \n",
    "df  =  pd.read_csv('terraclimate.csv')\n",
    "df.head()"
   ]
  },
  {
   "cell_type": "code",
   "execution_count": 247,
   "id": "1ee544d4",
   "metadata": {},
   "outputs": [
    {
     "data": {
      "text/html": [
       "<div>\n",
       "<style scoped>\n",
       "    .dataframe tbody tr th:only-of-type {\n",
       "        vertical-align: middle;\n",
       "    }\n",
       "\n",
       "    .dataframe tbody tr th {\n",
       "        vertical-align: top;\n",
       "    }\n",
       "\n",
       "    .dataframe thead th {\n",
       "        text-align: right;\n",
       "    }\n",
       "</style>\n",
       "<table border=\"1\" class=\"dataframe\">\n",
       "  <thead>\n",
       "    <tr style=\"text-align: right;\">\n",
       "      <th></th>\n",
       "      <th>Year</th>\n",
       "      <th>Month</th>\n",
       "      <th>tmax</th>\n",
       "      <th>tmin</th>\n",
       "      <th>ppt</th>\n",
       "      <th>year_month</th>\n",
       "    </tr>\n",
       "  </thead>\n",
       "  <tbody>\n",
       "    <tr>\n",
       "      <th>0</th>\n",
       "      <td>1958</td>\n",
       "      <td>1</td>\n",
       "      <td>5.89798</td>\n",
       "      <td>-6.31520</td>\n",
       "      <td>22.87821</td>\n",
       "      <td>1958 1</td>\n",
       "    </tr>\n",
       "    <tr>\n",
       "      <th>1</th>\n",
       "      <td>1958</td>\n",
       "      <td>2</td>\n",
       "      <td>9.17997</td>\n",
       "      <td>-1.83897</td>\n",
       "      <td>42.90582</td>\n",
       "      <td>1958 2</td>\n",
       "    </tr>\n",
       "    <tr>\n",
       "      <th>2</th>\n",
       "      <td>1958</td>\n",
       "      <td>3</td>\n",
       "      <td>7.13841</td>\n",
       "      <td>-5.19640</td>\n",
       "      <td>28.72127</td>\n",
       "      <td>1958 3</td>\n",
       "    </tr>\n",
       "    <tr>\n",
       "      <th>3</th>\n",
       "      <td>1958</td>\n",
       "      <td>4</td>\n",
       "      <td>13.36199</td>\n",
       "      <td>-1.94881</td>\n",
       "      <td>26.05313</td>\n",
       "      <td>1958 4</td>\n",
       "    </tr>\n",
       "    <tr>\n",
       "      <th>4</th>\n",
       "      <td>1958</td>\n",
       "      <td>5</td>\n",
       "      <td>23.89599</td>\n",
       "      <td>4.19911</td>\n",
       "      <td>14.07921</td>\n",
       "      <td>1958 5</td>\n",
       "    </tr>\n",
       "  </tbody>\n",
       "</table>\n",
       "</div>"
      ],
      "text/plain": [
       "   Year  Month      tmax     tmin       ppt year_month\n",
       "0  1958      1   5.89798 -6.31520  22.87821     1958 1\n",
       "1  1958      2   9.17997 -1.83897  42.90582     1958 2\n",
       "2  1958      3   7.13841 -5.19640  28.72127     1958 3\n",
       "3  1958      4  13.36199 -1.94881  26.05313     1958 4\n",
       "4  1958      5  23.89599  4.19911  14.07921     1958 5"
      ]
     },
     "execution_count": 247,
     "metadata": {},
     "output_type": "execute_result"
    }
   ],
   "source": [
    "# creating matploit lib with python\n",
    "# we shall create a a line graph to check the general trend of data,\n",
    "#before we plot we follow this procedure\n",
    "#1) combine year and month to be label for y axis\n",
    "\n",
    "df['year_month'] =  df['Year'].astype(str) + \" \" + df['Month'].astype(str)\n",
    "df['year_month']\n",
    "# create column and indtroduce it\n",
    "df.head()\n"
   ]
  },
  {
   "cell_type": "code",
   "execution_count": 248,
   "id": "f973fba5",
   "metadata": {},
   "outputs": [
    {
     "data": {
      "text/html": [
       "<div>\n",
       "<style scoped>\n",
       "    .dataframe tbody tr th:only-of-type {\n",
       "        vertical-align: middle;\n",
       "    }\n",
       "\n",
       "    .dataframe tbody tr th {\n",
       "        vertical-align: top;\n",
       "    }\n",
       "\n",
       "    .dataframe thead th {\n",
       "        text-align: right;\n",
       "    }\n",
       "</style>\n",
       "<table border=\"1\" class=\"dataframe\">\n",
       "  <thead>\n",
       "    <tr style=\"text-align: right;\">\n",
       "      <th></th>\n",
       "      <th>Year</th>\n",
       "      <th>Month</th>\n",
       "      <th>tmax</th>\n",
       "      <th>tmin</th>\n",
       "      <th>ppt</th>\n",
       "    </tr>\n",
       "  </thead>\n",
       "  <tbody>\n",
       "    <tr>\n",
       "      <th>0</th>\n",
       "      <td>1958</td>\n",
       "      <td>6.5</td>\n",
       "      <td>18.297448</td>\n",
       "      <td>1.458483</td>\n",
       "      <td>22.733963</td>\n",
       "    </tr>\n",
       "    <tr>\n",
       "      <th>1</th>\n",
       "      <td>1959</td>\n",
       "      <td>6.5</td>\n",
       "      <td>18.520453</td>\n",
       "      <td>0.290372</td>\n",
       "      <td>11.048252</td>\n",
       "    </tr>\n",
       "    <tr>\n",
       "      <th>2</th>\n",
       "      <td>1960</td>\n",
       "      <td>6.5</td>\n",
       "      <td>17.833689</td>\n",
       "      <td>0.447406</td>\n",
       "      <td>18.937135</td>\n",
       "    </tr>\n",
       "    <tr>\n",
       "      <th>3</th>\n",
       "      <td>1961</td>\n",
       "      <td>6.5</td>\n",
       "      <td>17.918070</td>\n",
       "      <td>0.608028</td>\n",
       "      <td>18.152991</td>\n",
       "    </tr>\n",
       "    <tr>\n",
       "      <th>4</th>\n",
       "      <td>1962</td>\n",
       "      <td>6.5</td>\n",
       "      <td>17.194103</td>\n",
       "      <td>0.100198</td>\n",
       "      <td>19.642375</td>\n",
       "    </tr>\n",
       "  </tbody>\n",
       "</table>\n",
       "</div>"
      ],
      "text/plain": [
       "   Year  Month       tmax      tmin        ppt\n",
       "0  1958    6.5  18.297448  1.458483  22.733963\n",
       "1  1959    6.5  18.520453  0.290372  11.048252\n",
       "2  1960    6.5  17.833689  0.447406  18.937135\n",
       "3  1961    6.5  17.918070  0.608028  18.152991\n",
       "4  1962    6.5  17.194103  0.100198  19.642375"
      ]
     },
     "execution_count": 248,
     "metadata": {},
     "output_type": "execute_result"
    }
   ],
   "source": [
    "# group panda for ploting because the data was too large\n",
    "grouped_data = (df.groupby(['Year'], as_index=False).mean())\n",
    "grouped_data.head()\n",
    "            \n"
   ]
  },
  {
   "cell_type": "code",
   "execution_count": 249,
   "id": "a11a3299",
   "metadata": {},
   "outputs": [],
   "source": [
    "# set figure size to make the plots big\n",
    "plt.rcParams[\"figure.figsize\"] = [7, 6]\n",
    "\n"
   ]
  },
  {
   "cell_type": "code",
   "execution_count": 250,
   "id": "0bc95060",
   "metadata": {},
   "outputs": [
    {
     "data": {
      "image/png": "[encoded data removed]",
      "text/plain": [
       "<Figure size 504x432 with 1 Axes>"
      ]
     },
     "metadata": {
      "needs_background": "light"
     },
     "output_type": "display_data"
    }
   ],
   "source": [
    "#plot the graph\n",
    "plt.plot(grouped_data['Year'],grouped_data['ppt'],label=\"ppt\")\n",
    "plt.plot(grouped_data['Year'],grouped_data['tmax'],label=\"tmax\")\n",
    "plt.plot(grouped_data['Year'],grouped_data['tmin'],label=\"tmin\")\n",
    "plt.grid(True,color=\"k\",linestyle=\":\")\n",
    "plt.title(\"Trend of mean of tmax,tmin and ppt over the year from 1960 - 2020\")\n",
    "plt.xlabel(\"Year\")\n",
    "plt.ylabel(\"Mean\")\n",
    "plt.legend(loc=1);\n"
   ]
  },
  {
   "cell_type": "code",
   "execution_count": 251,
   "id": "f63dee05",
   "metadata": {},
   "outputs": [],
   "source": [
    "#from the graph we see that the trend of the mean tempereture over the year tend to be linear,\n",
    "#while that of the  precipitation (ppt) tend to also stagger over the mean of 20 over the year,\n",
    "#also the temepreture max (tmax) also staggers over the mean of 20.\n"
   ]
  },
  {
   "cell_type": "code",
   "execution_count": 252,
   "id": "4cdbc87a",
   "metadata": {},
   "outputs": [],
   "source": [
    "# from the data we can see that the data is stationary ,from the graph as both tend to have a constant mean a"
   ]
  },
  {
   "cell_type": "code",
   "execution_count": 253,
   "id": "6eecb143",
   "metadata": {},
   "outputs": [],
   "source": [
    "# thus from that we know we can use arima model to model \n",
    "#our prediction since the data is a time series and the data is stationary (it has constant mean and variance)"
   ]
  },
  {
   "cell_type": "code",
   "execution_count": 254,
   "id": "cfc290b2",
   "metadata": {},
   "outputs": [],
   "source": [
    "# test for stationarity\n",
    "\n",
    "def ad_test(dataset):\n",
    "     dftest = adfuller(dataset, autolag = 'AIC')\n",
    "     print(\"1. ADF : \",dftest[0])\n",
    "     print(\"2. P-Value : \", dftest[1])\n",
    "     print(\"3. Num Of Lags : \", dftest[2])\n",
    "     print(\"4. Num Of Observations Used For ADF Regression:\",      dftest[3])\n",
    "     print(\"5. Critical Values :\")\n",
    "     for key, val in dftest[4].items():\n",
    "         print(\"\\t\",key, \": \", val)\n",
    "\n"
   ]
  },
  {
   "cell_type": "code",
   "execution_count": 255,
   "id": "4c47703f",
   "metadata": {
    "scrolled": true
   },
   "outputs": [
    {
     "name": "stdout",
     "output_type": "stream",
     "text": [
      "1. ADF :  -5.7246274797546\n",
      "2. P-Value :  6.816170568624291e-07\n",
      "3. Num Of Lags :  0\n",
      "4. Num Of Observations Used For ADF Regression: 62\n",
      "5. Critical Values :\n",
      "\t 1% :  -3.540522678829176\n",
      "\t 5% :  -2.9094272025108254\n",
      "\t 10% :  -2.5923136524453696\n"
     ]
    }
   ],
   "source": [
    "ad_test(grouped_data['tmax'])"
   ]
  },
  {
   "cell_type": "code",
   "execution_count": 256,
   "id": "6302afc6",
   "metadata": {},
   "outputs": [],
   "source": [
    "# from this we see that the p value < 0.05 which shows that the \n",
    "# data is stationary"
   ]
  },
  {
   "cell_type": "code",
   "execution_count": 257,
   "id": "b53fdef8",
   "metadata": {},
   "outputs": [
    {
     "data": {
      "text/plain": [
       "756"
      ]
     },
     "execution_count": 257,
     "metadata": {},
     "output_type": "execute_result"
    }
   ],
   "source": [
    "# we want to split the data into training and testing datase\n",
    "#1) we check the number of rows in the data\n",
    "\n",
    "len(df['tmax'])"
   ]
  },
  {
   "cell_type": "code",
   "execution_count": 271,
   "id": "b98f77cc",
   "metadata": {},
   "outputs": [
    {
     "data": {
      "text/html": [
       "<div>\n",
       "<style scoped>\n",
       "    .dataframe tbody tr th:only-of-type {\n",
       "        vertical-align: middle;\n",
       "    }\n",
       "\n",
       "    .dataframe tbody tr th {\n",
       "        vertical-align: top;\n",
       "    }\n",
       "\n",
       "    .dataframe thead th {\n",
       "        text-align: right;\n",
       "    }\n",
       "</style>\n",
       "<table border=\"1\" class=\"dataframe\">\n",
       "  <thead>\n",
       "    <tr style=\"text-align: right;\">\n",
       "      <th></th>\n",
       "      <th>Year</th>\n",
       "      <th>Month</th>\n",
       "      <th>tmax</th>\n",
       "    </tr>\n",
       "  </thead>\n",
       "  <tbody>\n",
       "    <tr>\n",
       "      <th>0</th>\n",
       "      <td>1958</td>\n",
       "      <td>1</td>\n",
       "      <td>5.89798</td>\n",
       "    </tr>\n",
       "    <tr>\n",
       "      <th>1</th>\n",
       "      <td>1958</td>\n",
       "      <td>2</td>\n",
       "      <td>9.17997</td>\n",
       "    </tr>\n",
       "    <tr>\n",
       "      <th>2</th>\n",
       "      <td>1958</td>\n",
       "      <td>3</td>\n",
       "      <td>7.13841</td>\n",
       "    </tr>\n",
       "    <tr>\n",
       "      <th>3</th>\n",
       "      <td>1958</td>\n",
       "      <td>4</td>\n",
       "      <td>13.36199</td>\n",
       "    </tr>\n",
       "    <tr>\n",
       "      <th>4</th>\n",
       "      <td>1958</td>\n",
       "      <td>5</td>\n",
       "      <td>23.89599</td>\n",
       "    </tr>\n",
       "  </tbody>\n",
       "</table>\n",
       "</div>"
      ],
      "text/plain": [
       "   Year  Month      tmax\n",
       "0  1958      1   5.89798\n",
       "1  1958      2   9.17997\n",
       "2  1958      3   7.13841\n",
       "3  1958      4  13.36199\n",
       "4  1958      5  23.89599"
      ]
     },
     "execution_count": 271,
     "metadata": {},
     "output_type": "execute_result"
    }
   ],
   "source": [
    "all_dat = df.iloc[:,:3]\n",
    "all_dat.head()"
   ]
  },
  {
   "cell_type": "code",
   "execution_count": 272,
   "id": "db84e6a0",
   "metadata": {},
   "outputs": [
    {
     "data": {
      "text/html": [
       "<div>\n",
       "<style scoped>\n",
       "    .dataframe tbody tr th:only-of-type {\n",
       "        vertical-align: middle;\n",
       "    }\n",
       "\n",
       "    .dataframe tbody tr th {\n",
       "        vertical-align: top;\n",
       "    }\n",
       "\n",
       "    .dataframe thead th {\n",
       "        text-align: right;\n",
       "    }\n",
       "</style>\n",
       "<table border=\"1\" class=\"dataframe\">\n",
       "  <thead>\n",
       "    <tr style=\"text-align: right;\">\n",
       "      <th></th>\n",
       "      <th>Year</th>\n",
       "      <th>Month</th>\n",
       "      <th>tmax</th>\n",
       "      <th>date</th>\n",
       "    </tr>\n",
       "  </thead>\n",
       "  <tbody>\n",
       "    <tr>\n",
       "      <th>0</th>\n",
       "      <td>1958</td>\n",
       "      <td>1</td>\n",
       "      <td>5.89798</td>\n",
       "      <td>1958-1-1</td>\n",
       "    </tr>\n",
       "    <tr>\n",
       "      <th>1</th>\n",
       "      <td>1958</td>\n",
       "      <td>2</td>\n",
       "      <td>9.17997</td>\n",
       "      <td>1958-2-1</td>\n",
       "    </tr>\n",
       "    <tr>\n",
       "      <th>2</th>\n",
       "      <td>1958</td>\n",
       "      <td>3</td>\n",
       "      <td>7.13841</td>\n",
       "      <td>1958-3-1</td>\n",
       "    </tr>\n",
       "    <tr>\n",
       "      <th>3</th>\n",
       "      <td>1958</td>\n",
       "      <td>4</td>\n",
       "      <td>13.36199</td>\n",
       "      <td>1958-4-1</td>\n",
       "    </tr>\n",
       "    <tr>\n",
       "      <th>4</th>\n",
       "      <td>1958</td>\n",
       "      <td>5</td>\n",
       "      <td>23.89599</td>\n",
       "      <td>1958-5-1</td>\n",
       "    </tr>\n",
       "  </tbody>\n",
       "</table>\n",
       "</div>"
      ],
      "text/plain": [
       "   Year  Month      tmax      date\n",
       "0  1958      1   5.89798  1958-1-1\n",
       "1  1958      2   9.17997  1958-2-1\n",
       "2  1958      3   7.13841  1958-3-1\n",
       "3  1958      4  13.36199  1958-4-1\n",
       "4  1958      5  23.89599  1958-5-1"
      ]
     },
     "execution_count": 272,
     "metadata": {},
     "output_type": "execute_result"
    }
   ],
   "source": [
    "all_dat['date'] = all_dat['Year'].astype(str)+\"-\"+all_dat['Month'].astype(str)+\"-\"+\"1\"\n",
    "all_dat.head()"
   ]
  },
  {
   "cell_type": "code",
   "execution_count": 273,
   "id": "5ba6aff5",
   "metadata": {},
   "outputs": [
    {
     "data": {
      "text/html": [
       "<div>\n",
       "<style scoped>\n",
       "    .dataframe tbody tr th:only-of-type {\n",
       "        vertical-align: middle;\n",
       "    }\n",
       "\n",
       "    .dataframe tbody tr th {\n",
       "        vertical-align: top;\n",
       "    }\n",
       "\n",
       "    .dataframe thead th {\n",
       "        text-align: right;\n",
       "    }\n",
       "</style>\n",
       "<table border=\"1\" class=\"dataframe\">\n",
       "  <thead>\n",
       "    <tr style=\"text-align: right;\">\n",
       "      <th></th>\n",
       "      <th>tmax</th>\n",
       "      <th>date</th>\n",
       "    </tr>\n",
       "  </thead>\n",
       "  <tbody>\n",
       "    <tr>\n",
       "      <th>0</th>\n",
       "      <td>5.89798</td>\n",
       "      <td>1958-01-01</td>\n",
       "    </tr>\n",
       "    <tr>\n",
       "      <th>1</th>\n",
       "      <td>9.17997</td>\n",
       "      <td>1958-02-01</td>\n",
       "    </tr>\n",
       "    <tr>\n",
       "      <th>2</th>\n",
       "      <td>7.13841</td>\n",
       "      <td>1958-03-01</td>\n",
       "    </tr>\n",
       "    <tr>\n",
       "      <th>3</th>\n",
       "      <td>13.36199</td>\n",
       "      <td>1958-04-01</td>\n",
       "    </tr>\n",
       "    <tr>\n",
       "      <th>4</th>\n",
       "      <td>23.89599</td>\n",
       "      <td>1958-05-01</td>\n",
       "    </tr>\n",
       "  </tbody>\n",
       "</table>\n",
       "</div>"
      ],
      "text/plain": [
       "       tmax       date\n",
       "0   5.89798 1958-01-01\n",
       "1   9.17997 1958-02-01\n",
       "2   7.13841 1958-03-01\n",
       "3  13.36199 1958-04-01\n",
       "4  23.89599 1958-05-01"
      ]
     },
     "execution_count": 273,
     "metadata": {},
     "output_type": "execute_result"
    }
   ],
   "source": [
    "# split training data\n",
    "all_data = all_dat.iloc[:,2:]\n",
    "all_data['date'] = all_data['date'].astype('datetime64[ns]')\n",
    "all_data.head()\n"
   ]
  },
  {
   "cell_type": "code",
   "execution_count": 274,
   "id": "d84d044f",
   "metadata": {},
   "outputs": [
    {
     "data": {
      "text/html": [
       "<div>\n",
       "<style scoped>\n",
       "    .dataframe tbody tr th:only-of-type {\n",
       "        vertical-align: middle;\n",
       "    }\n",
       "\n",
       "    .dataframe tbody tr th {\n",
       "        vertical-align: top;\n",
       "    }\n",
       "\n",
       "    .dataframe thead th {\n",
       "        text-align: right;\n",
       "    }\n",
       "</style>\n",
       "<table border=\"1\" class=\"dataframe\">\n",
       "  <thead>\n",
       "    <tr style=\"text-align: right;\">\n",
       "      <th></th>\n",
       "      <th>tmax</th>\n",
       "      <th>date</th>\n",
       "    </tr>\n",
       "  </thead>\n",
       "  <tbody>\n",
       "    <tr>\n",
       "      <th>0</th>\n",
       "      <td>5.89798</td>\n",
       "      <td>1958-01-01</td>\n",
       "    </tr>\n",
       "    <tr>\n",
       "      <th>1</th>\n",
       "      <td>9.17997</td>\n",
       "      <td>1958-02-01</td>\n",
       "    </tr>\n",
       "    <tr>\n",
       "      <th>2</th>\n",
       "      <td>7.13841</td>\n",
       "      <td>1958-03-01</td>\n",
       "    </tr>\n",
       "    <tr>\n",
       "      <th>3</th>\n",
       "      <td>13.36199</td>\n",
       "      <td>1958-04-01</td>\n",
       "    </tr>\n",
       "    <tr>\n",
       "      <th>4</th>\n",
       "      <td>23.89599</td>\n",
       "      <td>1958-05-01</td>\n",
       "    </tr>\n",
       "  </tbody>\n",
       "</table>\n",
       "</div>"
      ],
      "text/plain": [
       "       tmax       date\n",
       "0   5.89798 1958-01-01\n",
       "1   9.17997 1958-02-01\n",
       "2   7.13841 1958-03-01\n",
       "3  13.36199 1958-04-01\n",
       "4  23.89599 1958-05-01"
      ]
     },
     "execution_count": 274,
     "metadata": {},
     "output_type": "execute_result"
    }
   ],
   "source": [
    "# check shape of training data\n",
    "training_data = all_data.iloc[:500,]\n",
    "training_data.head()"
   ]
  },
  {
   "cell_type": "code",
   "execution_count": 275,
   "id": "c0bcb85c",
   "metadata": {},
   "outputs": [
    {
     "data": {
      "text/html": [
       "<div>\n",
       "<style scoped>\n",
       "    .dataframe tbody tr th:only-of-type {\n",
       "        vertical-align: middle;\n",
       "    }\n",
       "\n",
       "    .dataframe tbody tr th {\n",
       "        vertical-align: top;\n",
       "    }\n",
       "\n",
       "    .dataframe thead th {\n",
       "        text-align: right;\n",
       "    }\n",
       "</style>\n",
       "<table border=\"1\" class=\"dataframe\">\n",
       "  <thead>\n",
       "    <tr style=\"text-align: right;\">\n",
       "      <th></th>\n",
       "      <th>tmax</th>\n",
       "      <th>date</th>\n",
       "    </tr>\n",
       "  </thead>\n",
       "  <tbody>\n",
       "    <tr>\n",
       "      <th>501</th>\n",
       "      <td>21.84149</td>\n",
       "      <td>1999-10-01</td>\n",
       "    </tr>\n",
       "    <tr>\n",
       "      <th>502</th>\n",
       "      <td>14.03689</td>\n",
       "      <td>1999-11-01</td>\n",
       "    </tr>\n",
       "    <tr>\n",
       "      <th>503</th>\n",
       "      <td>7.14316</td>\n",
       "      <td>1999-12-01</td>\n",
       "    </tr>\n",
       "    <tr>\n",
       "      <th>504</th>\n",
       "      <td>6.82031</td>\n",
       "      <td>2000-01-01</td>\n",
       "    </tr>\n",
       "    <tr>\n",
       "      <th>505</th>\n",
       "      <td>8.14789</td>\n",
       "      <td>2000-02-01</td>\n",
       "    </tr>\n",
       "  </tbody>\n",
       "</table>\n",
       "</div>"
      ],
      "text/plain": [
       "         tmax       date\n",
       "501  21.84149 1999-10-01\n",
       "502  14.03689 1999-11-01\n",
       "503   7.14316 1999-12-01\n",
       "504   6.82031 2000-01-01\n",
       "505   8.14789 2000-02-01"
      ]
     },
     "execution_count": 275,
     "metadata": {},
     "output_type": "execute_result"
    }
   ],
   "source": [
    "testing_data = all_data.iloc[501:,:]\n",
    "testing_data.head()"
   ]
  },
  {
   "cell_type": "code",
   "execution_count": 276,
   "id": "d3c2b3aa",
   "metadata": {},
   "outputs": [],
   "source": [
    "# Check ACF and PACF plots to determine number of AR terms and \n",
    "# MA terms in ARMA model, or to spot seasonality/periodic trend\n",
    "# Autoregressive forecast the next timestamp's value by\n",
    "# regressing the previous values\n",
    "# Moving Average forecast the next timestamp's value by\n",
    "# averaging the previous values \n",
    "# Autoregressive Integrated Moving Average is useful \n",
    "# for non-stationary data, plus has an additional seasonal \n",
    "# differencing parameter for seasonal non-stationary data\n",
    "# ACF and PACF plots include 95% Confidence Interval bands\n",
    "# Anything outside of the CI shaded bands is a \n",
    "# statistically significant correlation \n",
    "# If we see a significant spike at lag x in the ACF \n",
    "# that helps determine the number of MA terms\n",
    "# If we see a significant spike at lag x in the PACF \n",
    "# that helps us determine the number of AR terms\n"
   ]
  },
  {
   "cell_type": "code",
   "execution_count": 277,
   "id": "c9c5508c",
   "metadata": {},
   "outputs": [
    {
     "data": {
      "image/png": "[encoded data removed]",
      "text/plain": [
       "<Figure size 504x432 with 1 Axes>"
      ]
     },
     "metadata": {
      "needs_background": "light"
     },
     "output_type": "display_data"
    }
   ],
   "source": [
    "# we are using tempereture max for our prediction model\n",
    "#acf graph\n",
    "plot_acf(training_data['tmax'])\n",
    "plt.show()\n"
   ]
  },
  {
   "cell_type": "code",
   "execution_count": 278,
   "id": "1d0df119",
   "metadata": {},
   "outputs": [],
   "source": [
    "#from the graph above we can see a strong spike of data that means that there is a strong correlation \n",
    "#of the data to itself,also each year there is and increate in the middle strike over the years compared \n",
    "# to the end and the begining of the year this shows that an increase in tempereture which is a trend\n",
    "# that we have seen in the past yr..that is jan is a little wormer then the tempereture rises between,\n",
    "# may and june ,then it begins to decrease in the month of november,like in Nairobi example, there has\n",
    "#been a decrese, in tempereture on november which was as a result of an impact in rainfall patterns,\n",
    "#and even in decemer when the december started, this proves our point of stationarity\n",
    "# of the data, and we can see a strong correlation from the data,which is good ,\n",
    "#for our prediction model of arima to take effect\n"
   ]
  },
  {
   "cell_type": "code",
   "execution_count": 279,
   "id": "fcaf7894",
   "metadata": {},
   "outputs": [
    {
     "name": "stderr",
     "output_type": "stream",
     "text": [
      "/home/lyrics/Desktop/projects/denno_machine/env/lib/python3.8/site-packages/statsmodels/graphics/tsaplots.py:348: FutureWarning: The default method 'yw' can produce PACF values outside of the [-1,1] interval. After 0.13, the default will change tounadjusted Yule-Walker ('ywm'). You can use this method now by setting method='ywm'.\n",
      "  warnings.warn(\n"
     ]
    },
    {
     "data": {
      "image/png": "[encoded data removed]",
      "text/plain": [
       "<Figure size 504x432 with 1 Axes>"
      ]
     },
     "metadata": {
      "needs_background": "light"
     },
     "output_type": "display_data"
    }
   ],
   "source": [
    "\n",
    "plot_pacf(training_data['tmax'])\n",
    "plt.show()"
   ]
  },
  {
   "cell_type": "code",
   "execution_count": 280,
   "id": "d527f61d",
   "metadata": {},
   "outputs": [],
   "source": [
    "# the acf and pacf are build on the concept of confidence intervals, that means,\n",
    "#our shadded area on the graph is the confidence interval if the spike is too high off the graph,\n",
    "# we see that that part of spike has a very high confidence interval."
   ]
  },
  {
   "cell_type": "code",
   "execution_count": 281,
   "id": "38971383",
   "metadata": {},
   "outputs": [],
   "source": [
    "# from the pacf we can see a significance at lag 2, which will be included to our ar order ,\n",
    "# in the arima model\n",
    "\n",
    "# there is also a significant spike for the acf model at lag 6,\n",
    "#so we shall use the lag 6 for our ma term"
   ]
  },
  {
   "cell_type": "code",
   "execution_count": 295,
   "id": "2ec3c367",
   "metadata": {},
   "outputs": [
    {
     "name": "stdout",
     "output_type": "stream",
     "text": [
      "Performing stepwise search to minimize aic\n",
      " ARIMA(2,0,2)(0,0,0)[0] intercept   : AIC=2429.499, Time=1.50 sec\n",
      " ARIMA(0,0,0)(0,0,0)[0] intercept   : AIC=3668.911, Time=0.03 sec\n",
      " ARIMA(1,0,0)(0,0,0)[0] intercept   : AIC=3111.990, Time=0.11 sec\n",
      " ARIMA(0,0,1)(0,0,0)[0] intercept   : AIC=3248.237, Time=0.09 sec\n",
      " ARIMA(0,0,0)(0,0,0)[0]             : AIC=4412.092, Time=0.01 sec\n",
      " ARIMA(1,0,2)(0,0,0)[0] intercept   : AIC=2905.534, Time=0.46 sec\n",
      " ARIMA(2,0,1)(0,0,0)[0] intercept   : AIC=2547.896, Time=0.55 sec\n",
      " ARIMA(3,0,2)(0,0,0)[0] intercept   : AIC=2546.377, Time=1.66 sec\n",
      " ARIMA(2,0,3)(0,0,0)[0] intercept   : AIC=inf, Time=1.59 sec\n",
      " ARIMA(1,0,1)(0,0,0)[0] intercept   : AIC=2982.859, Time=0.18 sec\n",
      " ARIMA(1,0,3)(0,0,0)[0] intercept   : AIC=2851.858, Time=0.80 sec\n",
      " ARIMA(3,0,1)(0,0,0)[0] intercept   : AIC=2518.338, Time=1.49 sec\n",
      " ARIMA(3,0,3)(0,0,0)[0] intercept   : AIC=inf, Time=1.90 sec\n",
      " ARIMA(2,0,2)(0,0,0)[0]             : AIC=2931.251, Time=0.20 sec\n",
      "\n",
      "Best model:  ARIMA(2,0,2)(0,0,0)[0] intercept\n",
      "Total fit time: 10.603 seconds\n"
     ]
    },
    {
     "data": {
      "text/plain": [
       "ARIMA(order=(2, 0, 2), scoring_args={}, suppress_warnings=True)"
      ]
     },
     "execution_count": 295,
     "metadata": {},
     "output_type": "execute_result"
    }
   ],
   "source": [
    "# create a list of data , to prevent errors with arima summary\n",
    "stepwise_fit = auto_arima(training_data['tmax'], trace=True,suppress_warnings=True)\n",
    "stepwise_fit"
   ]
  },
  {
   "cell_type": "code",
   "execution_count": 332,
   "id": "0f62b928",
   "metadata": {},
   "outputs": [
    {
     "name": "stderr",
     "output_type": "stream",
     "text": [
      "/home/lyrics/Desktop/projects/denno_machine/env/lib/python3.8/site-packages/statsmodels/base/model.py:604: ConvergenceWarning: Maximum Likelihood optimization failed to converge. Check mle_retvals\n",
      "  warnings.warn(\"Maximum Likelihood optimization failed to \"\n"
     ]
    },
    {
     "data": {
      "text/html": [
       "<table class=\"simpletable\">\n",
       "<caption>SARIMAX Results</caption>\n",
       "<tr>\n",
       "  <th>Dep. Variable:</th>           <td>y</td>        <th>  No. Observations:  </th>    <td>500</td>   \n",
       "</tr>\n",
       "<tr>\n",
       "  <th>Model:</th>            <td>ARIMA(2, 0, 2)</td>  <th>  Log Likelihood     </th> <td>-1197.281</td>\n",
       "</tr>\n",
       "<tr>\n",
       "  <th>Date:</th>            <td>Fri, 31 Dec 2021</td> <th>  AIC                </th> <td>2406.561</td> \n",
       "</tr>\n",
       "<tr>\n",
       "  <th>Time:</th>                <td>15:32:37</td>     <th>  BIC                </th> <td>2431.849</td> \n",
       "</tr>\n",
       "<tr>\n",
       "  <th>Sample:</th>                  <td>0</td>        <th>  HQIC               </th> <td>2416.484</td> \n",
       "</tr>\n",
       "<tr>\n",
       "  <th></th>                      <td> - 500</td>      <th>                     </th>     <td> </td>    \n",
       "</tr>\n",
       "<tr>\n",
       "  <th>Covariance Type:</th>        <td>opg</td>       <th>                     </th>     <td> </td>    \n",
       "</tr>\n",
       "</table>\n",
       "<table class=\"simpletable\">\n",
       "<tr>\n",
       "     <td></td>       <th>coef</th>     <th>std err</th>      <th>z</th>      <th>P>|z|</th>  <th>[0.025</th>    <th>0.975]</th>  \n",
       "</tr>\n",
       "<tr>\n",
       "  <th>const</th>  <td>   17.5133</td> <td>    0.121</td> <td>  145.203</td> <td> 0.000</td> <td>   17.277</td> <td>   17.750</td>\n",
       "</tr>\n",
       "<tr>\n",
       "  <th>ar.L1</th>  <td>    1.7320</td> <td>    0.000</td> <td> 1.53e+04</td> <td> 0.000</td> <td>    1.732</td> <td>    1.732</td>\n",
       "</tr>\n",
       "<tr>\n",
       "  <th>ar.L2</th>  <td>   -1.0000</td> <td> 1.19e-05</td> <td>-8.39e+04</td> <td> 0.000</td> <td>   -1.000</td> <td>   -1.000</td>\n",
       "</tr>\n",
       "<tr>\n",
       "  <th>ma.L1</th>  <td>   -1.7307</td> <td>    0.577</td> <td>   -2.997</td> <td> 0.003</td> <td>   -2.862</td> <td>   -0.599</td>\n",
       "</tr>\n",
       "<tr>\n",
       "  <th>ma.L2</th>  <td>    0.9998</td> <td>    0.668</td> <td>    1.496</td> <td> 0.135</td> <td>   -0.310</td> <td>    2.309</td>\n",
       "</tr>\n",
       "<tr>\n",
       "  <th>sigma2</th> <td>    6.8109</td> <td>    4.511</td> <td>    1.510</td> <td> 0.131</td> <td>   -2.031</td> <td>   15.653</td>\n",
       "</tr>\n",
       "</table>\n",
       "<table class=\"simpletable\">\n",
       "<tr>\n",
       "  <th>Ljung-Box (L1) (Q):</th>     <td>36.06</td> <th>  Jarque-Bera (JB):  </th> <td>4.72</td> \n",
       "</tr>\n",
       "<tr>\n",
       "  <th>Prob(Q):</th>                <td>0.00</td>  <th>  Prob(JB):          </th> <td>0.09</td> \n",
       "</tr>\n",
       "<tr>\n",
       "  <th>Heteroskedasticity (H):</th> <td>1.18</td>  <th>  Skew:              </th> <td>-0.15</td>\n",
       "</tr>\n",
       "<tr>\n",
       "  <th>Prob(H) (two-sided):</th>    <td>0.30</td>  <th>  Kurtosis:          </th> <td>2.63</td> \n",
       "</tr>\n",
       "</table><br/><br/>Warnings:<br/>[1] Covariance matrix calculated using the outer product of gradients (complex-step)."
      ],
      "text/plain": [
       "<class 'statsmodels.iolib.summary.Summary'>\n",
       "\"\"\"\n",
       "                               SARIMAX Results                                \n",
       "==============================================================================\n",
       "Dep. Variable:                      y   No. Observations:                  500\n",
       "Model:                 ARIMA(2, 0, 2)   Log Likelihood               -1197.281\n",
       "Date:                Fri, 31 Dec 2021   AIC                           2406.561\n",
       "Time:                        15:32:37   BIC                           2431.849\n",
       "Sample:                             0   HQIC                          2416.484\n",
       "                                - 500                                         \n",
       "Covariance Type:                  opg                                         \n",
       "==============================================================================\n",
       "                 coef    std err          z      P>|z|      [0.025      0.975]\n",
       "------------------------------------------------------------------------------\n",
       "const         17.5133      0.121    145.203      0.000      17.277      17.750\n",
       "ar.L1          1.7320      0.000   1.53e+04      0.000       1.732       1.732\n",
       "ar.L2         -1.0000   1.19e-05  -8.39e+04      0.000      -1.000      -1.000\n",
       "ma.L1         -1.7307      0.577     -2.997      0.003      -2.862      -0.599\n",
       "ma.L2          0.9998      0.668      1.496      0.135      -0.310       2.309\n",
       "sigma2         6.8109      4.511      1.510      0.131      -2.031      15.653\n",
       "===================================================================================\n",
       "Ljung-Box (L1) (Q):                  36.06   Jarque-Bera (JB):                 4.72\n",
       "Prob(Q):                              0.00   Prob(JB):                         0.09\n",
       "Heteroskedasticity (H):               1.18   Skew:                            -0.15\n",
       "Prob(H) (two-sided):                  0.30   Kurtosis:                         2.63\n",
       "===================================================================================\n",
       "\n",
       "Warnings:\n",
       "[1] Covariance matrix calculated using the outer product of gradients (complex-step).\n",
       "\"\"\""
      ]
     },
     "execution_count": 332,
     "metadata": {},
     "output_type": "execute_result"
    }
   ],
   "source": [
    "# Depending on ACF and PACF, create ARMA/ARIMA model \n",
    "# with AR and MA terms\n",
    "# This will infer the frequency, so make sure there are \n",
    "# no gaps between datetimes\n",
    "arima_model_tmax = ARIMA(np.array(training_data['tmax']), order=(2,0,2))\n",
    "model = arima_model_tmax.fit()\n",
    "model.summary()\n",
    "\n"
   ]
  },
  {
   "cell_type": "code",
   "execution_count": 333,
   "id": "87463caf",
   "metadata": {},
   "outputs": [],
   "source": [
    "start=len(training_data)\n",
    "end=len(training_data)+len(testing_data)-1\n",
    "pred=model.predict(start=start,end=end,typ='levels')\n",
    "\n"
   ]
  },
  {
   "cell_type": "code",
   "execution_count": 337,
   "id": "f633af52",
   "metadata": {},
   "outputs": [
    {
     "data": {
      "image/png": "[encoded data removed]",
      "text/plain": [
       "<Figure size 504x432 with 1 Axes>"
      ]
     },
     "metadata": {
      "needs_background": "light"
     },
     "output_type": "display_data"
    }
   ],
   "source": [
    "# plot the graph\n",
    "plt.plot(testing_data['date'],list(pred),label=\"predicted\")\n",
    "plt.plot(testing_data['date'],testing_data['tmax'],label=\"testing\")\n",
    "plt.grid(True,color=\"k\",linestyle=\":\")\n",
    "plt.title(\"Predicted model against testing model\")\n",
    "plt.xlabel(\"Date\")\n",
    "plt.ylabel(\"tmax\")\n",
    "plt.legend(loc=1);"
   ]
  },
  {
   "cell_type": "code",
   "execution_count": 338,
   "id": "61818f59",
   "metadata": {},
   "outputs": [
    {
     "data": {
      "text/html": [
       "<div>\n",
       "<style scoped>\n",
       "    .dataframe tbody tr th:only-of-type {\n",
       "        vertical-align: middle;\n",
       "    }\n",
       "\n",
       "    .dataframe tbody tr th {\n",
       "        vertical-align: top;\n",
       "    }\n",
       "\n",
       "    .dataframe thead th {\n",
       "        text-align: right;\n",
       "    }\n",
       "</style>\n",
       "<table border=\"1\" class=\"dataframe\">\n",
       "  <thead>\n",
       "    <tr style=\"text-align: right;\">\n",
       "      <th></th>\n",
       "      <th>Year</th>\n",
       "      <th>Month</th>\n",
       "      <th>tmax</th>\n",
       "      <th>date</th>\n",
       "    </tr>\n",
       "  </thead>\n",
       "  <tbody>\n",
       "    <tr>\n",
       "      <th>751</th>\n",
       "      <td>2020</td>\n",
       "      <td>8</td>\n",
       "      <td>33.54410</td>\n",
       "      <td>2020-8-1</td>\n",
       "    </tr>\n",
       "    <tr>\n",
       "      <th>752</th>\n",
       "      <td>2020</td>\n",
       "      <td>9</td>\n",
       "      <td>29.49453</td>\n",
       "      <td>2020-9-1</td>\n",
       "    </tr>\n",
       "    <tr>\n",
       "      <th>753</th>\n",
       "      <td>2020</td>\n",
       "      <td>10</td>\n",
       "      <td>21.74019</td>\n",
       "      <td>2020-10-1</td>\n",
       "    </tr>\n",
       "    <tr>\n",
       "      <th>754</th>\n",
       "      <td>2020</td>\n",
       "      <td>11</td>\n",
       "      <td>10.84297</td>\n",
       "      <td>2020-11-1</td>\n",
       "    </tr>\n",
       "    <tr>\n",
       "      <th>755</th>\n",
       "      <td>2020</td>\n",
       "      <td>12</td>\n",
       "      <td>5.78121</td>\n",
       "      <td>2020-12-1</td>\n",
       "    </tr>\n",
       "  </tbody>\n",
       "</table>\n",
       "</div>"
      ],
      "text/plain": [
       "     Year  Month      tmax       date\n",
       "751  2020      8  33.54410   2020-8-1\n",
       "752  2020      9  29.49453   2020-9-1\n",
       "753  2020     10  21.74019  2020-10-1\n",
       "754  2020     11  10.84297  2020-11-1\n",
       "755  2020     12   5.78121  2020-12-1"
      ]
     },
     "execution_count": 338,
     "metadata": {},
     "output_type": "execute_result"
    }
   ],
   "source": [
    "#predicting the future dataset,\n",
    "# 1) check the tail of the dataset\n",
    "all_dat.tail()"
   ]
  },
  {
   "cell_type": "code",
   "execution_count": 341,
   "id": "5ab8063c",
   "metadata": {},
   "outputs": [
    {
     "name": "stderr",
     "output_type": "stream",
     "text": [
      "/home/lyrics/Desktop/projects/denno_machine/env/lib/python3.8/site-packages/statsmodels/base/model.py:604: ConvergenceWarning: Maximum Likelihood optimization failed to converge. Check mle_retvals\n",
      "  warnings.warn(\"Maximum Likelihood optimization failed to \"\n"
     ]
    }
   ],
   "source": [
    "# refit the entire model with the arima model\n",
    "arima_model_tmax = ARIMA(np.array(all_dat['tmax']), order=(2,0,2))\n",
    "model2 = arima_model_tmax.fit()\n"
   ]
  },
  {
   "cell_type": "code",
   "execution_count": 343,
   "id": "cc35f4e7",
   "metadata": {},
   "outputs": [
    {
     "data": {
      "text/plain": [
       "61"
      ]
     },
     "execution_count": 343,
     "metadata": {},
     "output_type": "execute_result"
    }
   ],
   "source": [
    "#future prediction\n",
    "#1)getting date ranges\n",
    "index_future_prediction = pd.date_range(start=\"2020-12-1\",end=\"2021-01-30\")\n",
    "len(index_future_prediction)\n",
    "\n",
    "\n"
   ]
  },
  {
   "cell_type": "code",
   "execution_count": 349,
   "id": "ea12e067",
   "metadata": {},
   "outputs": [
    {
     "data": {
      "text/html": [
       "<div>\n",
       "<style scoped>\n",
       "    .dataframe tbody tr th:only-of-type {\n",
       "        vertical-align: middle;\n",
       "    }\n",
       "\n",
       "    .dataframe tbody tr th {\n",
       "        vertical-align: top;\n",
       "    }\n",
       "\n",
       "    .dataframe thead th {\n",
       "        text-align: right;\n",
       "    }\n",
       "</style>\n",
       "<table border=\"1\" class=\"dataframe\">\n",
       "  <thead>\n",
       "    <tr style=\"text-align: right;\">\n",
       "      <th></th>\n",
       "      <th>Generated_tmax</th>\n",
       "    </tr>\n",
       "  </thead>\n",
       "  <tbody>\n",
       "    <tr>\n",
       "      <th>2020-12-01</th>\n",
       "      <td>4.810884</td>\n",
       "    </tr>\n",
       "    <tr>\n",
       "      <th>2020-12-02</th>\n",
       "      <td>5.628955</td>\n",
       "    </tr>\n",
       "    <tr>\n",
       "      <th>2020-12-03</th>\n",
       "      <td>9.682433</td>\n",
       "    </tr>\n",
       "    <tr>\n",
       "      <th>2020-12-04</th>\n",
       "      <td>15.885012</td>\n",
       "    </tr>\n",
       "    <tr>\n",
       "      <th>2020-12-05</th>\n",
       "      <td>22.574440</td>\n",
       "    </tr>\n",
       "  </tbody>\n",
       "</table>\n",
       "</div>"
      ],
      "text/plain": [
       "            Generated_tmax\n",
       "2020-12-01        4.810884\n",
       "2020-12-02        5.628955\n",
       "2020-12-03        9.682433\n",
       "2020-12-04       15.885012\n",
       "2020-12-05       22.574440"
      ]
     },
     "execution_count": 349,
     "metadata": {},
     "output_type": "execute_result"
    }
   ],
   "source": [
    "pred2 = model2.predict(start=len(all_dat['tmax']),end=len(all_dat['tmax'])+ 60,typ='levels')\n",
    "\n",
    "changed = pd.DataFrame(pred2, columns = ['Generated_tmax'])\n",
    "changed.index = index_future_prediction\n",
    "changed.head()\n"
   ]
  },
  {
   "cell_type": "code",
   "execution_count": null,
   "id": "bb5880fb",
   "metadata": {},
   "outputs": [],
   "source": []
  }
 ],
 "metadata": {
  "kernelspec": {
   "display_name": "Python 3 (ipykernel)",
   "language": "python",
   "name": "python3"
  },
  "language_info": {
   "codemirror_mode": {
    "name": "ipython",
    "version": 3
   },
   "file_extension": ".py",
   "mimetype": "text/x-python",
   "name": "python",
   "nbconvert_exporter": "python",
   "pygments_lexer": "ipython3",
   "version": "3.8.10"
  }
 },
 "nbformat": 4,
 "nbformat_minor": 5
}
